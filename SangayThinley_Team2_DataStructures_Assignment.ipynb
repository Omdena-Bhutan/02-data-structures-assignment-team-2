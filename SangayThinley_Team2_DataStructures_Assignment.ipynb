{
  "nbformat": 4,
  "nbformat_minor": 0,
  "metadata": {
    "colab": {
      "provenance": [],
      "authorship_tag": "ABX9TyOyv6D0Y8z6UxQulfqzULq0",
      "include_colab_link": true
    },
    "kernelspec": {
      "name": "python3",
      "display_name": "Python 3"
    },
    "language_info": {
      "name": "python"
    }
  },
  "cells": [
    {
      "cell_type": "markdown",
      "metadata": {
        "id": "view-in-github",
        "colab_type": "text"
      },
      "source": [
        "<a href=\"https://colab.research.google.com/github/Omdena-Bhutan/02-data-structures-assignment-team-2/blob/main/SangayThinley_Team2_DataStructures_Assignment.ipynb\" target=\"_parent\"><img src=\"https://colab.research.google.com/assets/colab-badge.svg\" alt=\"Open In Colab\"/></a>"
      ]
    },
    {
      "cell_type": "code",
      "execution_count": null,
      "metadata": {
        "id": "Zkwtv12tgGjF"
      },
      "outputs": [],
      "source": []
    },
    {
      "cell_type": "markdown",
      "source": [
        "#Part1: Create a dictionary named character_profile to store Alistair's basic information. The dictionary should have the following key-value pairs:\n"
      ],
      "metadata": {
        "id": "aYQ7QFemgPES"
      }
    },
    {
      "cell_type": "code",
      "source": [
        "character_profile = {\"name\":\"Alistair the Brave\",\"level\":1,\"health\":100,\"mana\":50,\"gold\":50.75,\"is_alive\":True}\n",
        "character_profile"
      ],
      "metadata": {
        "colab": {
          "base_uri": "https://localhost:8080/"
        },
        "id": "ESNPKtXOgX9i",
        "outputId": "7acc9305-4127-4b12-cba0-c095aa4e4fc7"
      },
      "execution_count": null,
      "outputs": [
        {
          "output_type": "execute_result",
          "data": {
            "text/plain": [
              "{'name': 'Alistair the Brave',\n",
              " 'level': 1,\n",
              " 'health': 100,\n",
              " 'mana': 50,\n",
              " 'gold': 50.75,\n",
              " 'is_alive': True}"
            ]
          },
          "metadata": {},
          "execution_count": 2
        }
      ]
    },
    {
      "cell_type": "code",
      "source": [],
      "metadata": {
        "id": "Ino4FtJpe_xn"
      },
      "execution_count": null,
      "outputs": []
    },
    {
      "cell_type": "code",
      "source": [],
      "metadata": {
        "id": "rkPou6b1fBRq"
      },
      "execution_count": null,
      "outputs": []
    },
    {
      "cell_type": "code",
      "source": [
        "#Print the character's name and level in a formatted string\n",
        "print(character_profile[\"name\"])"
      ],
      "metadata": {
        "colab": {
          "base_uri": "https://localhost:8080/"
        },
        "id": "4orNbGC-iOAh",
        "outputId": "352870cc-a4df-48d7-fba5-34502c214f7b"
      },
      "execution_count": null,
      "outputs": [
        {
          "output_type": "stream",
          "name": "stdout",
          "text": [
            "Alistair the Brave\n"
          ]
        }
      ]
    },
    {
      "cell_type": "code",
      "source": [
        "#Update the character's health to 85.\n",
        "character_profile[\"health\"]=85\n",
        "character_profile"
      ],
      "metadata": {
        "colab": {
          "base_uri": "https://localhost:8080/"
        },
        "id": "hgKhRrRyon84",
        "outputId": "c95cd7b2-b05a-4be2-c627-7e4d712cd514"
      },
      "execution_count": null,
      "outputs": [
        {
          "output_type": "execute_result",
          "data": {
            "text/plain": [
              "{'name': 'Alistair the Brave',\n",
              " 'level': 1,\n",
              " 'health': 85,\n",
              " 'mana': 50,\n",
              " 'gold': 50.75,\n",
              " 'is_alive': True}"
            ]
          },
          "metadata": {},
          "execution_count": 4
        }
      ]
    },
    {
      "cell_type": "code",
      "source": [
        "#Add a new key-value pair for 'experience' with a value of 0.\n",
        "character_profile[\"experience\"] = 0\n",
        "character_profile"
      ],
      "metadata": {
        "colab": {
          "base_uri": "https://localhost:8080/"
        },
        "id": "0u80K58rpCV2",
        "outputId": "4917e6e3-e44a-4e87-a2cf-eb521465744c"
      },
      "execution_count": null,
      "outputs": [
        {
          "output_type": "execute_result",
          "data": {
            "text/plain": [
              "{'name': 'Alistair the Brave',\n",
              " 'level': 1,\n",
              " 'health': 85,\n",
              " 'mana': 50,\n",
              " 'gold': 50.75,\n",
              " 'is_alive': True,\n",
              " 'experience': 0}"
            ]
          },
          "metadata": {},
          "execution_count": 5
        }
      ]
    },
    {
      "cell_type": "code",
      "source": [
        "#Print the final character_profile dictionary to the console.\n",
        "print(character_profile[\"experience\"])"
      ],
      "metadata": {
        "colab": {
          "base_uri": "https://localhost:8080/"
        },
        "id": "_8c26su2pOTB",
        "outputId": "a315eb88-899f-4f1b-eea7-756794186602"
      },
      "execution_count": null,
      "outputs": [
        {
          "output_type": "stream",
          "name": "stdout",
          "text": [
            "0\n"
          ]
        }
      ]
    },
    {
      "cell_type": "code",
      "source": [],
      "metadata": {
        "id": "Dvvdss40psc9"
      },
      "execution_count": null,
      "outputs": []
    },
    {
      "cell_type": "markdown",
      "source": [
        "#Part 2: Inventory System (Using Lists)\n"
      ],
      "metadata": {
        "id": "spfsiHRrpu1K"
      }
    },
    {
      "cell_type": "code",
      "source": [
        "inventory = ['sword', 'shield', 'health potion']\n",
        "\n",
        "# Add a new item and remove an existing one\n",
        "inventory.append('mana potion')\n",
        "inventory.remove('shield')\n"
      ],
      "metadata": {
        "id": "f0FadGRlp2Rq"
      },
      "execution_count": 1,
      "outputs": []
    },
    {
      "cell_type": "code",
      "source": [
        "\n",
        "# Iterate through the inventory and print each item\n",
        "print(\"\\nInventory:\")\n",
        "for item in inventory:\n",
        "    print(item)"
      ],
      "metadata": {
        "colab": {
          "base_uri": "https://localhost:8080/"
        },
        "id": "-lY9aBElEW0s",
        "outputId": "903f0667-432c-4f54-c310-60a815aea469"
      },
      "execution_count": 2,
      "outputs": [
        {
          "output_type": "stream",
          "name": "stdout",
          "text": [
            "\n",
            "Inventory:\n",
            "sword\n",
            "health potion\n",
            "mana potion\n"
          ]
        }
      ]
    },
    {
      "cell_type": "markdown",
      "source": [
        "#Part 3: Character Stats"
      ],
      "metadata": {
        "id": "_lEDH2gmEtrU"
      }
    },
    {
      "cell_type": "code",
      "source": [
        "# Create the base_stats tuple\n",
        "base_stats = (10, 8, 12)  # (strength, dexterity, intelligence)\n",
        "\n",
        "# Explain why a tuple is a good choice\n",
        "print(\"A tuple is a good choice for base stats because they are immutable and won't change.\")\n",
        "\n"
      ],
      "metadata": {
        "colab": {
          "base_uri": "https://localhost:8080/"
        },
        "id": "42_Qkby6EXNY",
        "outputId": "b6e7ec76-9e22-49e6-e4c8-b7b2f8d62a51"
      },
      "execution_count": 3,
      "outputs": [
        {
          "output_type": "stream",
          "name": "stdout",
          "text": [
            "A tuple is a good choice for base stats because they are immutable and won't change.\n"
          ]
        }
      ]
    },
    {
      "cell_type": "code",
      "source": [
        "# Access and print the intelligence value (the third element)\n",
        "intelligence = base_stats[2]\n",
        "print(f\"Alistair's intelligence is: {intelligence}\")\n",
        "\n"
      ],
      "metadata": {
        "colab": {
          "base_uri": "https://localhost:8080/"
        },
        "id": "LSI4t820FRaC",
        "outputId": "3af7bccd-f113-46e6-ffe0-83586017ad65"
      },
      "execution_count": 4,
      "outputs": [
        {
          "output_type": "stream",
          "name": "stdout",
          "text": [
            "Alistair's intelligence is: 12\n"
          ]
        }
      ]
    },
    {
      "cell_type": "code",
      "source": [
        "\n",
        "# Attempt to change the strength value\n",
        "base_stats[0] = 15"
      ],
      "metadata": {
        "colab": {
          "base_uri": "https://localhost:8080/",
          "height": 158
        },
        "id": "OhNNiDiGIN7r",
        "outputId": "b63b5f04-37ad-4ecd-c106-146c4970cd9f"
      },
      "execution_count": 5,
      "outputs": [
        {
          "output_type": "error",
          "ename": "TypeError",
          "evalue": "'tuple' object does not support item assignment",
          "traceback": [
            "\u001b[0;31m---------------------------------------------------------------------------\u001b[0m",
            "\u001b[0;31mTypeError\u001b[0m                                 Traceback (most recent call last)",
            "\u001b[0;32m/tmp/ipython-input-483006078.py\u001b[0m in \u001b[0;36m<cell line: 0>\u001b[0;34m()\u001b[0m\n\u001b[1;32m      1\u001b[0m \u001b[0;31m# Attempt to change the strength value\u001b[0m\u001b[0;34m\u001b[0m\u001b[0;34m\u001b[0m\u001b[0m\n\u001b[0;32m----> 2\u001b[0;31m \u001b[0mbase_stats\u001b[0m\u001b[0;34m[\u001b[0m\u001b[0;36m0\u001b[0m\u001b[0;34m]\u001b[0m \u001b[0;34m=\u001b[0m \u001b[0;36m15\u001b[0m\u001b[0;34m\u001b[0m\u001b[0;34m\u001b[0m\u001b[0m\n\u001b[0m",
            "\u001b[0;31mTypeError\u001b[0m: 'tuple' object does not support item assignment"
          ]
        }
      ]
    },
    {
      "cell_type": "markdown",
      "source": [
        "#Part 4: Quest Log (Using Sets)"
      ],
      "metadata": {
        "id": "kex0ThRKIfMo"
      }
    },
    {
      "cell_type": "code",
      "source": [
        "# Create the quest_log set\n",
        "quest_log = {'Defeat the Goblin King', 'Find the Lost Amulet'}\n",
        "\n"
      ],
      "metadata": {
        "id": "00VT7ht5IedJ"
      },
      "execution_count": 7,
      "outputs": []
    },
    {
      "cell_type": "code",
      "source": [
        "# Add a new quest\n",
        "quest_log.add('Deliver the Old Scroll')\n",
        "\n"
      ],
      "metadata": {
        "id": "DZq8PflsIxUq"
      },
      "execution_count": 9,
      "outputs": []
    },
    {
      "cell_type": "code",
      "source": [
        "# Add a quest that's already in the set (no change will occur)\n",
        "quest_log.add('Defeat the Goblin King')\n",
        "\n",
        "# Remove a completed quest\n",
        "quest_log.remove('Find the Lost Amulet')\n",
        "\n",
        "# Print the final quest log\n",
        "print(quest_log)"
      ],
      "metadata": {
        "colab": {
          "base_uri": "https://localhost:8080/"
        },
        "id": "FvljQOx4I01h",
        "outputId": "b7c13306-8b22-4f4f-f942-0d8f26c86008"
      },
      "execution_count": 10,
      "outputs": [
        {
          "output_type": "stream",
          "name": "stdout",
          "text": [
            "{'Defeat the Goblin King', 'Deliver the Old Scroll'}\n"
          ]
        }
      ]
    },
    {
      "cell_type": "markdown",
      "source": [],
      "metadata": {
        "id": "VsiJuSgdIpXf"
      }
    }
  ]
}