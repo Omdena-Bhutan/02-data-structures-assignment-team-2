{
  "nbformat": 4,
  "nbformat_minor": 0,
  "metadata": {
    "colab": {
      "provenance": [],
      "include_colab_link": true
    },
    "kernelspec": {
      "name": "python3",
      "display_name": "Python 3"
    },
    "language_info": {
      "name": "python"
    }
  },
  "cells": [
    {
      "cell_type": "markdown",
      "metadata": {
        "id": "view-in-github",
        "colab_type": "text"
      },
      "source": [
        "<a href=\"https://colab.research.google.com/github/Omdena-Bhutan/02-data-structures-assignment-team-2/blob/main/Untitled4.ipynb\" target=\"_parent\"><img src=\"https://colab.research.google.com/assets/colab-badge.svg\" alt=\"Open In Colab\"/></a>"
      ]
    },
    {
      "cell_type": "code",
      "execution_count": null,
      "metadata": {
        "colab": {
          "base_uri": "https://localhost:8080/"
        },
        "id": "nQQXeamYvufK",
        "outputId": "cc902ca2-ba08-474b-d093-f61540288e18"
      },
      "outputs": [
        {
          "output_type": "stream",
          "name": "stdout",
          "text": [
            "Character Name: Alistar the Brave \n",
            "Character Level: 1\n",
            "{'name': 'Alistar the Brave', 'level': 1, 'health': 85, 'mana': 50, 'gold': 50.75, 'is_alive': True, 'experience': 0}\n"
          ]
        }
      ],
      "source": [
        "#Part 1: Character Profile (Using Dictionaries and Basic Types)\n",
        "character_info = {\n",
        "    \"name\":\"Alistar the Brave\",\n",
        "    \"level\": 1,\n",
        "    \"health\":100,\n",
        "    \"mana\":50,\n",
        "    \"gold\":float(50.75),\n",
        "    \"is_alive\":True\n",
        "}\n",
        "\n",
        "print(f\"Character Name: {character_info['name']} \\nCharacter Level: {character_info['level']}\")\n",
        "character_info[\"health\"] = 85\n",
        "character_info[\"experience\"] = 0\n",
        "print(character_info)\n"
      ]
    },
    {
      "cell_type": "code",
      "source": [
        "#Part 2: Inventory System (Using Lists)\n",
        "inventory = ['sword', 'shield', 'health potion']\n",
        "inventory.append('mana potion')\n",
        "inventory.remove(\"shield\")\n",
        "for items in inventory:\n",
        "  print(items)\n"
      ],
      "metadata": {
        "colab": {
          "base_uri": "https://localhost:8080/"
        },
        "id": "lnLcl-F3wqkF",
        "outputId": "abcbd908-80c1-4772-9108-f2754858bb5f"
      },
      "execution_count": null,
      "outputs": [
        {
          "output_type": "stream",
          "name": "stdout",
          "text": [
            "sword\n",
            "health potion\n",
            "mana potion\n"
          ]
        }
      ]
    },
    {
      "cell_type": "code",
      "source": [
        "#Part 3: Character Stats (Using Tuples)\n",
        "base_stats = (10,8,12) #strength, dexterity, intelligence\n",
        "print(\"Tuple is a great choice for base stats because it is immutable in nature. The base stats needs to remain constance hence a tuple ensure it is unchanged.\")\n",
        "print(f\"Intelligence: {base_stats[2]}\")"
      ],
      "metadata": {
        "colab": {
          "base_uri": "https://localhost:8080/"
        },
        "id": "HWjyQyGJyB08",
        "outputId": "ccd018e1-cd99-403a-a9c5-887b09a89abc"
      },
      "execution_count": null,
      "outputs": [
        {
          "output_type": "stream",
          "name": "stdout",
          "text": [
            "Tuple is a great choice for base stats because it is immutable in nature. The base stats needs to remain constance hence a tuple ensure it is unchanged.\n",
            "Intelligence: 12\n"
          ]
        }
      ]
    },
    {
      "cell_type": "code",
      "source": [
        "#Part 4: Quest Log (Using Sets)\n",
        "quests = {\"Find the base\", 'Defeat the Goblin King', 'Find the Lost Amulet'}\n",
        "quests.add(\"Deliver the old scroll\")\n",
        "quests.add(\"Find the base\")\n",
        "quests.remove(\"Find the Lost Amulet\")\n",
        "print(quests)"
      ],
      "metadata": {
        "colab": {
          "base_uri": "https://localhost:8080/"
        },
        "id": "pzBIRlUWyyCE",
        "outputId": "2b2dc58c-682a-4c74-8e35-f769abe05397"
      },
      "execution_count": null,
      "outputs": [
        {
          "output_type": "stream",
          "name": "stdout",
          "text": [
            "{'Defeat the Goblin King', 'Find the base', 'Deliver the old scroll'}\n"
          ]
        }
      ]
    },
    {
      "cell_type": "code",
      "source": [
        "#Part 5: Putting it all together\n",
        "character_sheet = {\n",
        "    \"profile\":character_info,\n",
        "    \"inventory\":inventory,\n",
        "    \"stats\":base_stats,\n",
        "    \"quests\":quests\n",
        "}"
      ],
      "metadata": {
        "id": "_A4xTX6uzrIN"
      },
      "execution_count": null,
      "outputs": []
    }
  ]
}