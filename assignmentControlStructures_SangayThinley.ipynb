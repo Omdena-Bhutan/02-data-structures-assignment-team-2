{
  "nbformat": 4,
  "nbformat_minor": 0,
  "metadata": {
    "colab": {
      "provenance": [],
      "authorship_tag": "ABX9TyN6yAMNKubaKMM0QU5dAio/",
      "include_colab_link": true
    },
    "kernelspec": {
      "name": "python3",
      "display_name": "Python 3"
    },
    "language_info": {
      "name": "python"
    }
  },
  "cells": [
    {
      "cell_type": "markdown",
      "metadata": {
        "id": "view-in-github",
        "colab_type": "text"
      },
      "source": [
        "<a href=\"https://colab.research.google.com/github/Omdena-Bhutan/02-data-structures-assignment-team-2/blob/main/assignmentControlStructures_SangayThinley.ipynb\" target=\"_parent\"><img src=\"https://colab.research.google.com/assets/colab-badge.svg\" alt=\"Open In Colab\"/></a>"
      ]
    },
    {
      "cell_type": "code",
      "execution_count": null,
      "metadata": {
        "id": "n-7JLbUAWECO"
      },
      "outputs": [],
      "source": []
    },
    {
      "cell_type": "markdown",
      "source": [
        "#Assignment 1\n",
        "A cinema gives discounts based on age:\n",
        "- Children (below 12 years): Pay 300\n",
        "- Teens (12- 17) pay 500\n",
        "- Adults (18-59) 800\n",
        "- Seniors (60+) 400\n",
        "\n",
        "Another condition: if today is wednesday, everyone get a 100 off"
      ],
      "metadata": {
        "id": "YmTQh9D5WK1V"
      }
    },
    {
      "cell_type": "code",
      "source": [
        "age = int(input(\"Please enter your age:\"))\n",
        "if age>=60:\n",
        "  print(\"Pay 400\")\n",
        "elif age>=18:\n",
        "  print(\"Pay 800\")\n",
        "elif age>=12:\n",
        "  print(\"Pay 300\")\n",
        "else:\n",
        "  print(\"Pay 300\")"
      ],
      "metadata": {
        "colab": {
          "base_uri": "https://localhost:8080/"
        },
        "id": "5EhNxcayWuQL",
        "outputId": "fb9a9a2d-97f4-4bc4-897f-c2e814f6a6bd"
      },
      "execution_count": null,
      "outputs": [
        {
          "output_type": "stream",
          "name": "stdout",
          "text": [
            "Please enter your age:17\n",
            "Pay 300\n"
          ]
        }
      ]
    },
    {
      "cell_type": "markdown",
      "source": [
        "#Write a python program that:\n",
        "1. Picks a secret number (e.g. 7).\n",
        "2. Asks the user to guess the number\n",
        "3. Keep asking until the user guesses correctly (Using a while loop)\n",
        "4. Print '''Congratulations! You guessed correctly''' when correct"
      ],
      "metadata": {
        "id": "Z5ycipo4cP3Y"
      }
    },
    {
      "cell_type": "code",
      "source": [
        "secret = 7\n",
        "guess = int(input(\"Enter your guess:\"))\n",
        "while guess!=7:\n",
        "  if guess == secret:\n",
        "    print(\"Congratulations! You guessed correctly!\")\n",
        "    break\n",
        "  else:\n",
        "    guess = int(input(\"Enter your guess:\"))\n"
      ],
      "metadata": {
        "colab": {
          "base_uri": "https://localhost:8080/"
        },
        "id": "9d6vqfAFcxGD",
        "outputId": "24f5c3fb-6bc6-491e-cb95-b66dae8f0a1c"
      },
      "execution_count": null,
      "outputs": [
        {
          "name": "stdout",
          "output_type": "stream",
          "text": [
            "Enter your guess:4\n",
            "Enter your guess:6\n",
            "Enter your guess:3\n",
            "Enter your guess:7\n"
          ]
        }
      ]
    }
  ]
}