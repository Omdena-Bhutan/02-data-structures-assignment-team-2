{
  "nbformat": 4,
  "nbformat_minor": 0,
  "metadata": {
    "colab": {
      "provenance": [],
      "authorship_tag": "ABX9TyO0kD4LVUSl+Pt5tG0sWsAi",
      "include_colab_link": true
    },
    "kernelspec": {
      "name": "python3",
      "display_name": "Python 3"
    },
    "language_info": {
      "name": "python"
    }
  },
  "cells": [
    {
      "cell_type": "markdown",
      "metadata": {
        "id": "view-in-github",
        "colab_type": "text"
      },
      "source": [
        "<a href=\"https://colab.research.google.com/github/Omdena-Bhutan/02-data-structures-assignment-team-2/blob/main/Assignment_(week_6).ipynb\" target=\"_parent\"><img src=\"https://colab.research.google.com/assets/colab-badge.svg\" alt=\"Open In Colab\"/></a>"
      ]
    },
    {
      "cell_type": "code",
      "execution_count": null,
      "metadata": {
        "id": "BaP-S4JoRMg3"
      },
      "outputs": [],
      "source": [
        "#Assignment 1\n",
        "\n",
        "Age= input(\"Enter your Age: \")\n",
        "if Age < 12:\n",
        "  print(\"Your Ticket Price is 300\")\n",
        "elif Age >= 12 and Age <= 17:\n",
        "  print(\"Your Ticcket Price is 500\")\n",
        "elif Age > 17 and Age <= 59:\n",
        "  print(\"Your Ticket Price is 800\")\n",
        "elif Age >= 60:\n",
        "  print(\"Your Ticket Price is 400\")"
      ]
    },
    {
      "cell_type": "code",
      "source": [
        "#assignment 2 select number between 0 and 10\n",
        "import random\n",
        "secret_number = random.randint(0, 10)\n",
        "\n",
        "game = True\n",
        "while game == True:\n",
        "  user_input = int(input(\"Guess a Number: \"))\n",
        "  if user_input == secret_number:\n",
        "    print(\"Congratulations, You guessed correctly\")\n",
        "    game=False"
      ],
      "metadata": {
        "id": "h3Upmrg1RWZj"
      },
      "execution_count": null,
      "outputs": []
    },
    {
      "cell_type": "code",
      "source": [
        "#Assignment 3\n",
        "#Keyword arguments are parameters in a function that defined by the parameter specified.\n",
        "\n",
        "#1.Keyword Arguments\n",
        "#Allow passing values to functions using parameter names.\n",
        "#Order doesn’t matter.\n",
        "\n",
        "def greet(name, age):\n",
        "    print(f\"Hello {name}, age {age}\")\n",
        "greet(age=20, name=\"chimi\")\n",
        "\n",
        "#2. Variable Number of Arguments\n",
        "#Lets functions accept an unknown number of inputs.\n",
        "#Done using *args (positional) and **kwargs (keyword).\n",
        "\n",
        "#3. *args and **kwargs\n",
        "#*args: collects extra positional arguments into a tuple.\n",
        "\n",
        "def add(*args):\n",
        "    return sum(args)\n",
        "print(add(1, 2, 3, 4))  # 10\n",
        "\n",
        "#**kwargs: collects extra keyword arguments into a dictionary.\n",
        "\n",
        "def info(**kwargs):\n",
        "    print(kwargs)\n",
        "info(name=\"chimi\", age=20)\n",
        "\n",
        "#They can also be combined:\n",
        "\n",
        "def profile(name, *hobbies, **details):\n",
        "    print(name, hobbies, details)\n",
        "\n",
        "profile(\"chimi\", \"Coding\", \"Reading\", age=20, country=\"Bhutan\")"
      ],
      "metadata": {
        "id": "LQCHNVd9RZxX"
      },
      "execution_count": null,
      "outputs": []
    },
    {
      "cell_type": "code",
      "source": [
        "#Assignment 4\n",
        "def calculate_grade(marks):\n",
        "  if marks > 90 and marks < 100:\n",
        "    return \"A\"\n",
        "  elif marks > 80 and marks < 89:\n",
        "    return \"B\"\n",
        "  elif marks > 70 and marks < 79:\n",
        "    return \"C\"\n",
        "  elif marks > 60 and marks < 69:\n",
        "    return \"D\"\n",
        "  elif marks < 60:\n",
        "    return 'Failed'\n",
        "\n",
        "user_input = int(input(\"Enter your Marks\"))\n",
        "calculate_grade(user_input)"
      ],
      "metadata": {
        "id": "P8m5rsqtRZbO"
      },
      "execution_count": null,
      "outputs": []
    }
  ]
}