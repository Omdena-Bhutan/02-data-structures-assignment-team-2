{
  "nbformat": 4,
  "nbformat_minor": 0,
  "metadata": {
    "colab": {
      "provenance": [],
      "authorship_tag": "ABX9TyNdivxxi1x1+ynoDf8lZ3vG",
      "include_colab_link": true
    },
    "kernelspec": {
      "name": "python3",
      "display_name": "Python 3"
    },
    "language_info": {
      "name": "python"
    }
  },
  "cells": [
    {
      "cell_type": "markdown",
      "metadata": {
        "id": "view-in-github",
        "colab_type": "text"
      },
      "source": [
        "<a href=\"https://colab.research.google.com/github/Omdena-Bhutan/02-data-structures-assignment-team-2/blob/main/Fantasy_Quest_notebook.ipynb\" target=\"_parent\"><img src=\"https://colab.research.google.com/assets/colab-badge.svg\" alt=\"Open In Colab\"/></a>"
      ]
    },
    {
      "cell_type": "code",
      "execution_count": 3,
      "metadata": {
        "colab": {
          "base_uri": "https://localhost:8080/"
        },
        "id": "MtXv7r-l3S8q",
        "outputId": "7f85d80b-4d9f-42e7-c066-b16218d5db8b"
      },
      "outputs": [
        {
          "output_type": "stream",
          "name": "stdout",
          "text": [
            "Fantasy Quest Inventory Management System\n",
            "=========================================\n"
          ]
        }
      ],
      "source": [
        "\n",
        "print(\"Fantasy Quest Inventory Management System\")\n",
        "print(\"=========================================\")"
      ]
    },
    {
      "cell_type": "code",
      "source": [
        "# Part 1: Character Profile\n",
        "def create_character_profile():\n",
        "    character_profile = {\n",
        "        'name': \"Alistair the Brave\",\n",
        "        'level': 1,\n",
        "        'health': 100,\n",
        "        'mana': 50,\n",
        "        'gold': 50.75,\n",
        "        'is_alive': True\n",
        "    }\n",
        "\n",
        "    print(f\"Character: {character_profile['name']}, Level: {character_profile['level']}\")\n",
        "    character_profile['health'] = 85\n",
        "    character_profile['experience'] = 0\n",
        "\n",
        "    print(\"\\nFinal Character Profile:\")\n",
        "    for key, value in character_profile.items():\n",
        "        print(f\"{key}: {value}\")\n",
        "\n",
        "    return character_profile\n",
        "\n",
        "profile = create_character_profile()"
      ],
      "metadata": {
        "colab": {
          "base_uri": "https://localhost:8080/"
        },
        "id": "6Ywa8gby4laM",
        "outputId": "59c2d1b4-4bc8-42b9-8939-d9e85e1d0eaf"
      },
      "execution_count": 5,
      "outputs": [
        {
          "output_type": "stream",
          "name": "stdout",
          "text": [
            "Character: Alistair the Brave, Level: 1\n",
            "\n",
            "Final Character Profile:\n",
            "name: Alistair the Brave\n",
            "level: 1\n",
            "health: 85\n",
            "mana: 50\n",
            "gold: 50.75\n",
            "is_alive: True\n",
            "experience: 0\n"
          ]
        }
      ]
    },
    {
      "cell_type": "code",
      "source": [
        "# Part 2: Inventory System\n",
        "def manage_inventory():\n",
        "    inventory = ['sword', 'shield', 'health potion']\n",
        "    print(f\"\\nInitial Inventory: {inventory}\")\n",
        "\n",
        "    inventory.append('mana potion')\n",
        "    print(f\"After adding 'mana potion': {inventory}\")\n",
        "\n",
        "    if 'shield' in inventory:\n",
        "        inventory.remove('shield')\n",
        "    print(f\"After removing 'shield': {inventory}\")\n",
        "\n",
        "    print(\"\\nCurrent Inventory Items:\")\n",
        "    for i, item in enumerate(inventory, 1):\n",
        "        print(f\"{i}. {item}\")\n",
        "\n",
        "    return inventory\n",
        "\n",
        "inventory = manage_inventory()"
      ],
      "metadata": {
        "colab": {
          "base_uri": "https://localhost:8080/"
        },
        "id": "zIGuZXHw42US",
        "outputId": "3b756aa2-68b5-4f58-8db5-c5bffe414877"
      },
      "execution_count": 6,
      "outputs": [
        {
          "output_type": "stream",
          "name": "stdout",
          "text": [
            "\n",
            "Initial Inventory: ['sword', 'shield', 'health potion']\n",
            "After adding 'mana potion': ['sword', 'shield', 'health potion', 'mana potion']\n",
            "After removing 'shield': ['sword', 'health potion', 'mana potion']\n",
            "\n",
            "Current Inventory Items:\n",
            "1. sword\n",
            "2. health potion\n",
            "3. mana potion\n"
          ]
        }
      ]
    }
  ]
}