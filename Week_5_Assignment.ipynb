{
  "nbformat": 4,
  "nbformat_minor": 0,
  "metadata": {
    "colab": {
      "provenance": [],
      "authorship_tag": "ABX9TyM72uETTC436RSx3qBhNzat",
      "include_colab_link": true
    },
    "kernelspec": {
      "name": "python3",
      "display_name": "Python 3"
    },
    "language_info": {
      "name": "python"
    }
  },
  "cells": [
    {
      "cell_type": "markdown",
      "metadata": {
        "id": "view-in-github",
        "colab_type": "text"
      },
      "source": [
        "<a href=\"https://colab.research.google.com/github/Omdena-Bhutan/02-data-structures-assignment-team-2/blob/main/Week_5_Assignment.ipynb\" target=\"_parent\"><img src=\"https://colab.research.google.com/assets/colab-badge.svg\" alt=\"Open In Colab\"/></a>"
      ]
    },
    {
      "cell_type": "code",
      "source": [
        "Arithmetic Operators"
      ],
      "metadata": {
        "id": "VOEbVNMjmkAt"
      },
      "execution_count": null,
      "outputs": []
    },
    {
      "cell_type": "code",
      "execution_count": null,
      "metadata": {
        "id": "Q3qNI3SUk_DG"
      },
      "outputs": [],
      "source": [
        "# Addition - `+`\n",
        "print(5 + 5)"
      ]
    },
    {
      "cell_type": "code",
      "source": [
        "# Subtraction - `-`\n",
        "print(50 - 5)"
      ],
      "metadata": {
        "id": "4YfjZyj4mO2C"
      },
      "execution_count": null,
      "outputs": []
    },
    {
      "cell_type": "code",
      "source": [
        "# Multiplication = *\n",
        "print(5 * 5)"
      ],
      "metadata": {
        "id": "Nf29stQDmQ21"
      },
      "execution_count": null,
      "outputs": []
    },
    {
      "cell_type": "code",
      "source": [
        "# Division - /\n",
        "print(50 / 5)"
      ],
      "metadata": {
        "id": "cdRvcQGSmSqS"
      },
      "execution_count": null,
      "outputs": []
    },
    {
      "cell_type": "code",
      "source": [
        "# Floor Division Operator - //\n",
        "print(50 // 6)"
      ],
      "metadata": {
        "id": "tLyJj1DzmUSF"
      },
      "execution_count": null,
      "outputs": []
    },
    {
      "cell_type": "code",
      "source": [
        "# Modullus - %\n",
        "print(50 % 6)\n"
      ],
      "metadata": {
        "id": "5LK2mk2umWQX"
      },
      "execution_count": null,
      "outputs": []
    },
    {
      "cell_type": "code",
      "source": [
        "# Exponent\n",
        "print(5 ** 5)"
      ],
      "metadata": {
        "id": "m8pKciBQmYkM"
      },
      "execution_count": null,
      "outputs": []
    },
    {
      "cell_type": "markdown",
      "source": [
        "Assignment Operators"
      ],
      "metadata": {
        "id": "gcN3da1amp0i"
      }
    },
    {
      "cell_type": "code",
      "source": [
        "# Assign '='\n",
        "x = 5\n",
        "print(x)\n"
      ],
      "metadata": {
        "id": "v69TCGbHmv3-"
      },
      "execution_count": null,
      "outputs": []
    },
    {
      "cell_type": "code",
      "source": [
        "# Add and asign - '+='\n",
        "x += 5\n",
        "print(x)"
      ],
      "metadata": {
        "id": "Bnz-TuG6myra"
      },
      "execution_count": null,
      "outputs": []
    },
    {
      "cell_type": "code",
      "source": [
        "# Subtract and assign - '-='\n",
        "x -= 3\n",
        "print(x)"
      ],
      "metadata": {
        "id": "G6yIa5WXm0wF"
      },
      "execution_count": null,
      "outputs": []
    },
    {
      "cell_type": "code",
      "source": [
        "# Multiply and assign '*='\n",
        "x *= 3\n",
        "print(x)"
      ],
      "metadata": {
        "id": "nbDrnD92m3B4"
      },
      "execution_count": null,
      "outputs": []
    },
    {
      "cell_type": "code",
      "source": [
        "# Divide and assign /=\n",
        "x /= 7\n",
        "print(x)"
      ],
      "metadata": {
        "id": "S3Bjkmkcm6Ew"
      },
      "execution_count": null,
      "outputs": []
    },
    {
      "cell_type": "code",
      "source": [
        " #Floor divide and assign //=\n",
        " x = 16\n",
        " x //= 5\n",
        " print(x)"
      ],
      "metadata": {
        "colab": {
          "base_uri": "https://localhost:8080/"
        },
        "id": "nbgPSEp-dc1J",
        "outputId": "968fafd4-f771-465d-fb7e-511d81792378"
      },
      "execution_count": null,
      "outputs": [
        {
          "output_type": "stream",
          "name": "stdout",
          "text": [
            "3\n"
          ]
        }
      ]
    },
    {
      "cell_type": "code",
      "source": [
        "# Modulus and assign = '%='\n",
        "x = 9\n",
        "x %= 6\n",
        "print(x)\n"
      ],
      "metadata": {
        "id": "MHaVkykym-F3"
      },
      "execution_count": null,
      "outputs": []
    },
    {
      "cell_type": "code",
      "source": [
        "# Exponent and assign\n",
        "x **= 2\n",
        "print(x)"
      ],
      "metadata": {
        "id": "CVzJ_9AMnBHS"
      },
      "execution_count": null,
      "outputs": []
    },
    {
      "cell_type": "markdown",
      "source": [
        "Identity Operators\n",
        "\n",
        "\n",
        "*   Used to check if 2 objects are in the same memory location\n",
        "\n"
      ],
      "metadata": {
        "id": "4H_UR7zynGgZ"
      }
    },
    {
      "cell_type": "code",
      "source": [
        "x = [1, 2, 3]\n",
        "y = x\n",
        "z = [1, 2, 3]"
      ],
      "metadata": {
        "id": "OSflEk5OnSST"
      },
      "execution_count": null,
      "outputs": []
    },
    {
      "cell_type": "code",
      "source": [
        "print(x is y)"
      ],
      "metadata": {
        "id": "xLTnSr-RnUZK"
      },
      "execution_count": null,
      "outputs": []
    },
    {
      "cell_type": "code",
      "source": [
        "print(x is z) # False\n"
      ],
      "metadata": {
        "id": "sFcqcp4znWMK"
      },
      "execution_count": null,
      "outputs": []
    },
    {
      "cell_type": "markdown",
      "source": [
        "Membership Operators\n",
        "\n",
        "\n",
        "*   Used to check if a value exists in a sequence\n",
        "\n",
        "\n",
        "\n",
        "\n"
      ],
      "metadata": {
        "id": "w_oRUFdunZtD"
      }
    },
    {
      "cell_type": "code",
      "source": [
        "# in\n",
        "\"a\" in \"apple\""
      ],
      "metadata": {
        "id": "4ue686_fnb5-"
      },
      "execution_count": null,
      "outputs": []
    },
    {
      "cell_type": "code",
      "source": [
        "\"x\" in \"Orange\""
      ],
      "metadata": {
        "id": "ejrRUfaXn8Gf"
      },
      "execution_count": null,
      "outputs": []
    },
    {
      "cell_type": "code",
      "source": [
        "# not in\n",
        "\"a\" not in \"apple\""
      ],
      "metadata": {
        "id": "AxxGXiMHn9xX"
      },
      "execution_count": null,
      "outputs": []
    },
    {
      "cell_type": "markdown",
      "source": [
        "Bitwise Operators\n"
      ],
      "metadata": {
        "id": "C-xmYbAkoCT-"
      }
    },
    {
      "cell_type": "code",
      "source": [
        "# AND &\n",
        "print(4 & 2)\n"
      ],
      "metadata": {
        "id": "GxrO8iGUoArq"
      },
      "execution_count": null,
      "outputs": []
    },
    {
      "cell_type": "code",
      "source": [
        "# XOR ^\n",
        "print(5 ^ 3)"
      ],
      "metadata": {
        "id": "a_-uFilkoIAH"
      },
      "execution_count": null,
      "outputs": []
    },
    {
      "cell_type": "code",
      "source": [
        "# NOT ~\n",
        "~5"
      ],
      "metadata": {
        "id": "wPsy3bOZoJdz"
      },
      "execution_count": null,
      "outputs": []
    },
    {
      "cell_type": "code",
      "source": [
        "# Left Shift\n",
        "5 << 1"
      ],
      "metadata": {
        "id": "JjcQJc2YoLTP"
      },
      "execution_count": null,
      "outputs": []
    },
    {
      "cell_type": "code",
      "source": [
        "# Right Shift\n",
        "5 >> 1"
      ],
      "metadata": {
        "id": "NEaIvEUWoNuR"
      },
      "execution_count": null,
      "outputs": []
    },
    {
      "cell_type": "markdown",
      "source": [
        "# Logical Operators\n",
        "- used to combine conditions"
      ],
      "metadata": {
        "id": "amqniP1JoQZb"
      }
    },
    {
      "cell_type": "code",
      "source": [
        "# And - it returns a true in cases where both conditions are True"
      ],
      "metadata": {
        "id": "p4elGcSioS7S"
      },
      "execution_count": null,
      "outputs": []
    },
    {
      "cell_type": "code",
      "source": [
        "True and True"
      ],
      "metadata": {
        "colab": {
          "base_uri": "https://localhost:8080/"
        },
        "id": "0x4ApjBToV95",
        "outputId": "6e8a1a3e-a4a7-4aa9-bc40-f6e1eb19c6b1"
      },
      "execution_count": 1,
      "outputs": [
        {
          "output_type": "execute_result",
          "data": {
            "text/plain": [
              "True"
            ]
          },
          "metadata": {},
          "execution_count": 1
        }
      ]
    },
    {
      "cell_type": "code",
      "source": [
        "True and False"
      ],
      "metadata": {
        "colab": {
          "base_uri": "https://localhost:8080/"
        },
        "id": "XR_Zx-FZoYDb",
        "outputId": "e35202da-ff07-465d-daa0-d269eba320c5"
      },
      "execution_count": 2,
      "outputs": [
        {
          "output_type": "execute_result",
          "data": {
            "text/plain": [
              "False"
            ]
          },
          "metadata": {},
          "execution_count": 2
        }
      ]
    },
    {
      "cell_type": "code",
      "source": [
        "False and True"
      ],
      "metadata": {
        "id": "KeBrdc_zobmQ"
      },
      "execution_count": null,
      "outputs": []
    },
    {
      "cell_type": "code",
      "source": [
        "False and False"
      ],
      "metadata": {
        "id": "-DyAGyLmod4l"
      },
      "execution_count": null,
      "outputs": []
    },
    {
      "cell_type": "code",
      "source": [
        "5 > 3 and 2 < 4"
      ],
      "metadata": {
        "id": "cTaRGclfogSO"
      },
      "execution_count": null,
      "outputs": []
    },
    {
      "cell_type": "code",
      "source": [
        "# OR - It returns a True if at least one condition is True"
      ],
      "metadata": {
        "id": "pUH0cXZkogHi"
      },
      "execution_count": null,
      "outputs": []
    },
    {
      "cell_type": "code",
      "source": [
        "True or True"
      ],
      "metadata": {
        "id": "c0rA1uKJokcr"
      },
      "execution_count": null,
      "outputs": []
    },
    {
      "cell_type": "code",
      "source": [
        "True or False"
      ],
      "metadata": {
        "id": "81WNkmLnomYT"
      },
      "execution_count": null,
      "outputs": []
    },
    {
      "cell_type": "code",
      "source": [
        "False or True"
      ],
      "metadata": {
        "id": "kttMNRapooFj"
      },
      "execution_count": null,
      "outputs": []
    },
    {
      "cell_type": "code",
      "source": [
        "False or False"
      ],
      "metadata": {
        "id": "Ix7RI5Shopyo"
      },
      "execution_count": null,
      "outputs": []
    },
    {
      "cell_type": "code",
      "source": [
        "5 > 3 or 2 > 4"
      ],
      "metadata": {
        "id": "-MG-4ElrorgT"
      },
      "execution_count": null,
      "outputs": []
    },
    {
      "cell_type": "code",
      "source": [
        "# Not - Reversses the result\n"
      ],
      "metadata": {
        "id": "_5wGN0AKos60"
      },
      "execution_count": null,
      "outputs": []
    },
    {
      "cell_type": "code",
      "source": [
        "not True"
      ],
      "metadata": {
        "id": "JefIyi0HovCa"
      },
      "execution_count": null,
      "outputs": []
    },
    {
      "cell_type": "code",
      "source": [
        "not False"
      ],
      "metadata": {
        "id": "dxAxsFNYoxXJ"
      },
      "execution_count": null,
      "outputs": []
    },
    {
      "cell_type": "code",
      "source": [
        "not(5 > 3)"
      ],
      "metadata": {
        "id": "2G3v9skvoy2_"
      },
      "execution_count": null,
      "outputs": []
    }
  ]
}