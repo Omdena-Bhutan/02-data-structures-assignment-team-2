{
  "nbformat": 4,
  "nbformat_minor": 0,
  "metadata": {
    "colab": {
      "provenance": [],
      "authorship_tag": "ABX9TyPjv3YGhOX9oAyG9JbcQtqy",
      "include_colab_link": true
    },
    "kernelspec": {
      "name": "python3",
      "display_name": "Python 3"
    },
    "language_info": {
      "name": "python"
    }
  },
  "cells": [
    {
      "cell_type": "markdown",
      "metadata": {
        "id": "view-in-github",
        "colab_type": "text"
      },
      "source": [
        "<a href=\"https://colab.research.google.com/github/Omdena-Bhutan/02-data-structures-assignment-team-2/blob/main/Week_4_Assignment.ipynb\" target=\"_parent\"><img src=\"https://colab.research.google.com/assets/colab-badge.svg\" alt=\"Open In Colab\"/></a>"
      ]
    },
    {
      "cell_type": "code",
      "execution_count": null,
      "metadata": {
        "id": "DtuBmEuPjwoZ"
      },
      "outputs": [],
      "source": [
        "# Create the character\n",
        "# Create character profile dictionary with basic information\n",
        "character_profile = {\n",
        "    'name' : \"Alistair the Brave\",\n",
        "    'level' : 1,\n",
        "    'health' : 100,\n",
        "    'mana' : 50,\n",
        "    'gold' : 50.75,\n",
        "    'is_alive' : True\n",
        "}"
      ]
    },
    {
      "cell_type": "code",
      "source": [
        "# Print the character name and level in a formatted string\n",
        "print(f\"Character: {character_profile['name']}, Level: {character_profile['level']}\")"
      ],
      "metadata": {
        "id": "zVPSelFGkOMj"
      },
      "execution_count": null,
      "outputs": []
    },
    {
      "cell_type": "code",
      "source": [
        "# Update the characters health to 85\n",
        "character_profile['health'] = 85\n",
        "print(f'Health updated to: {character_profile['health']}')"
      ],
      "metadata": {
        "id": "nc6wLEVmkQfH"
      },
      "execution_count": null,
      "outputs": []
    },
    {
      "cell_type": "code",
      "source": [
        "# Add a new key value pair\n",
        "character_profile['experience'] = 0\n",
        "print(f'Experience added: {character_profile['experience']}')"
      ],
      "metadata": {
        "id": "3sLtnnQrkT9Y"
      },
      "execution_count": null,
      "outputs": []
    },
    {
      "cell_type": "code",
      "source": [
        "# Print the character profile\n",
        "for key, value in character_profile.items():\n",
        "    print(f'{key.capitalize()}: {value}')"
      ],
      "metadata": {
        "id": "s3NDAn06kWVl"
      },
      "execution_count": null,
      "outputs": []
    }
  ]
}